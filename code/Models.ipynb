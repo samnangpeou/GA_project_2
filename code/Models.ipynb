{
 "cells": [
  {
   "cell_type": "markdown",
   "metadata": {},
   "source": [
    "# Ames Housing Project"
   ]
  },
  {
   "cell_type": "code",
   "execution_count": 6,
   "metadata": {},
   "outputs": [],
   "source": [
    "import pandas as pd\n",
    "import numpy as np\n",
    "import matplotlib.pyplot as plt\n",
    "import seaborn as sns\n",
    "from sklearn.linear_model import LinearRegression, Ridge, RidgeCV,Lasso, LassoCV\n",
    "from sklearn.metrics import mean_squared_error\n",
    "from sklearn.model_selection import train_test_split, cross_val_score\n",
    "from sklearn.preprocessing import StandardScaler,PolynomialFeatures\n",
    "from scipy import stats\n",
    "import math\n",
    "import statsmodels.api as sm"
   ]
  },
  {
   "cell_type": "code",
   "execution_count": 7,
   "metadata": {},
   "outputs": [],
   "source": [
    "train = pd.read_csv('../datasets/train_clean.csv')\n",
    "test = pd.read_csv('../datasets/test_clean.csv')"
   ]
  },
  {
   "cell_type": "code",
   "execution_count": 8,
   "metadata": {},
   "outputs": [],
   "source": [
    "pd.options.display.max_rows = 999\n",
    "pd.options.display.max_columns = 999"
   ]
  },
  {
   "cell_type": "markdown",
   "metadata": {},
   "source": [
    "## Modeling!"
   ]
  },
  {
   "cell_type": "code",
   "execution_count": 10,
   "metadata": {
    "scrolled": true
   },
   "outputs": [
    {
     "data": {
      "text/plain": [
       "LinearRegression()"
      ]
     },
     "execution_count": 10,
     "metadata": {},
     "output_type": "execute_result"
    }
   ],
   "source": [
    "X = train[['TotalSF', 'Overall Qual', 'Gr Liv Area',\n",
    "          'Overall Garage', 'Recently Blt/Remod', 'Bathrooms',\n",
    "           'TotRms AbvGrd', 'Foundation_PConc', 'MS Zoning_RM',\n",
    "          'Overall Great Fireplace', 'Exter Qual_TA', 'Heating QC_Ex',\n",
    "          'Total Porch SF', 'Kitchen Qual_TA', 'Neighborhood_NridgHt',\n",
    "          'Bsmt Qual_Ex']]\n",
    "y = train['SalePrice']\n",
    "lr = LinearRegression()\n",
    "poly = PolynomialFeatures()\n",
    "X_poly = poly.fit_transform(X)\n",
    "X_train, X_test, y_train, y_test = train_test_split(X_poly, y, train_size=.15)\n",
    "lr.fit(X_poly, y)"
   ]
  },
  {
   "cell_type": "code",
   "execution_count": 11,
   "metadata": {},
   "outputs": [
    {
     "data": {
      "text/plain": [
       "array([ 0.73764185,  0.80377019,  0.63897118,  0.77761964,  0.02197006,\n",
       "       -1.02066578,  0.68077126,  0.80028514,  0.10554889,  0.47103851])"
      ]
     },
     "execution_count": 11,
     "metadata": {},
     "output_type": "execute_result"
    }
   ],
   "source": [
    "cross_val_score(lr,X_train,y_train,cv=10)"
   ]
  },
  {
   "cell_type": "code",
   "execution_count": 12,
   "metadata": {},
   "outputs": [],
   "source": [
    "predictions = lr.predict(X_test)"
   ]
  },
  {
   "cell_type": "code",
   "execution_count": 13,
   "metadata": {},
   "outputs": [
    {
     "data": {
      "text/plain": [
       "22024.322922318162"
      ]
     },
     "execution_count": 13,
     "metadata": {},
     "output_type": "execute_result"
    }
   ],
   "source": [
    "np.sqrt(mean_squared_error(np.exp(y_test),np.exp(predictions)))"
   ]
  },
  {
   "cell_type": "code",
   "execution_count": 14,
   "metadata": {},
   "outputs": [
    {
     "data": {
      "text/plain": [
       "(0.9000762616549725, 0.9107669509023978)"
      ]
     },
     "execution_count": 14,
     "metadata": {},
     "output_type": "execute_result"
    }
   ],
   "source": [
    "lr.score(X_train,y_train), lr.score(X_test,y_test)"
   ]
  },
  {
   "cell_type": "markdown",
   "metadata": {},
   "source": [
    "### Trying a Ridge Model"
   ]
  },
  {
   "cell_type": "code",
   "execution_count": 15,
   "metadata": {},
   "outputs": [],
   "source": [
    "X_overfit = poly.fit_transform(X)\n",
    "X_train, X_test, y_train, y_test = train_test_split(\n",
    "    X_overfit,\n",
    "    y,\n",
    ")\n",
    "sc = StandardScaler()\n",
    "Z_train = sc.fit_transform(X_train)        # NOTE: fit transform on X_train\n",
    "Z_test = sc.transform(X_test)   "
   ]
  },
  {
   "cell_type": "code",
   "execution_count": 16,
   "metadata": {},
   "outputs": [
    {
     "data": {
      "text/plain": [
       "LinearRegression()"
      ]
     },
     "execution_count": 16,
     "metadata": {},
     "output_type": "execute_result"
    }
   ],
   "source": [
    "ols = LinearRegression()\n",
    "ols.fit(X_train,y_train)"
   ]
  },
  {
   "cell_type": "code",
   "execution_count": 17,
   "metadata": {},
   "outputs": [
    {
     "name": "stdout",
     "output_type": "stream",
     "text": [
      "0.9052682681113022\n",
      "0.8872708775229174\n"
     ]
    }
   ],
   "source": [
    "ridge_model = Ridge(alpha = 10)\n",
    "# Fit.\n",
    "ridge_model.fit(Z_train, y_train)\n",
    "# Evaluate model using R2 bc this is a regression task\n",
    "print(ridge_model.score(Z_train, y_train))\n",
    "print(ridge_model.score(Z_test,y_test))"
   ]
  },
  {
   "cell_type": "code",
   "execution_count": 18,
   "metadata": {},
   "outputs": [
    {
     "data": {
      "text/plain": [
       "RidgeCV(alphas=array([1.00000000e+00, 1.12332403e+00, 1.26185688e+00, 1.41747416e+00,\n",
       "       1.59228279e+00, 1.78864953e+00, 2.00923300e+00, 2.25701972e+00,\n",
       "       2.53536449e+00, 2.84803587e+00, 3.19926714e+00, 3.59381366e+00,\n",
       "       4.03701726e+00, 4.53487851e+00, 5.09413801e+00, 5.72236766e+00,\n",
       "       6.42807312e+00, 7.22080902e+00, 8.11130831e+00, 9.11162756e+00,\n",
       "       1.02353102e+01, 1.14975700e+0...\n",
       "       6.89261210e+03, 7.74263683e+03, 8.69749003e+03, 9.77009957e+03,\n",
       "       1.09749877e+04, 1.23284674e+04, 1.38488637e+04, 1.55567614e+04,\n",
       "       1.74752840e+04, 1.96304065e+04, 2.20513074e+04, 2.47707636e+04,\n",
       "       2.78255940e+04, 3.12571585e+04, 3.51119173e+04, 3.94420606e+04,\n",
       "       4.43062146e+04, 4.97702356e+04, 5.59081018e+04, 6.28029144e+04,\n",
       "       7.05480231e+04, 7.92482898e+04, 8.90215085e+04, 1.00000000e+05]),\n",
       "        cv=5, scoring='r2')"
      ]
     },
     "execution_count": 18,
     "metadata": {},
     "output_type": "execute_result"
    }
   ],
   "source": [
    "r_alphas = np.logspace(0,5,100) #alphas range from 1 to 10^5\n",
    "\n",
    "# Cross-validate over our list of ridge alphas.\n",
    "ridge_cv = RidgeCV(alphas = r_alphas,\n",
    "                  scoring = 'r2',\n",
    "                  cv = 5)\n",
    "\n",
    "# Fit model using best ridge alpha!\n",
    "ridge_cv.fit(Z_train,y_train)"
   ]
  },
  {
   "cell_type": "code",
   "execution_count": 19,
   "metadata": {},
   "outputs": [
    {
     "name": "stdout",
     "output_type": "stream",
     "text": [
      "0.9037791077319729\n",
      "0.8883500997952362\n"
     ]
    }
   ],
   "source": [
    "ridge_model = Ridge(alpha = ridge_cv.alpha_)\n",
    "# Fit.\n",
    "ridge_model.fit(Z_train, y_train)\n",
    "# Evaluate model using R2 b/c this is a regression task\n",
    "print(ridge_model.score(Z_train, y_train))\n",
    "print(ridge_model.score(Z_test, y_test))"
   ]
  },
  {
   "cell_type": "code",
   "execution_count": 20,
   "metadata": {
    "scrolled": true
   },
   "outputs": [
    {
     "data": {
      "text/plain": [
       "22782.875967009943"
      ]
     },
     "execution_count": 20,
     "metadata": {},
     "output_type": "execute_result"
    }
   ],
   "source": [
    "pred = ridge_model.predict(Z_train) \n",
    "np.sqrt(mean_squared_error(np.exp(y_train),np.exp(pred)))"
   ]
  },
  {
   "cell_type": "markdown",
   "metadata": {},
   "source": [
    "### Let's try a LASSO"
   ]
  },
  {
   "cell_type": "code",
   "execution_count": 21,
   "metadata": {},
   "outputs": [],
   "source": [
    "# Set up a list of Lasso alphas to check.\n",
    "l_alphas = np.logspace(-5, 2, 1000)\n",
    "\n",
    "# Cross-validate over our list of Lasso alphas.\n",
    "lasso_cv = LassoCV(alphas=l_alphas, cv=5, max_iter=50000, tol=0.1, selection='random', n_jobs=-1)\n",
    "\n",
    "# Fit model using best ridge alpha!\n",
    "lasso_cv.fit(Z_train, y_train);"
   ]
  },
  {
   "cell_type": "code",
   "execution_count": 22,
   "metadata": {},
   "outputs": [],
   "source": [
    "lasso_pred = lasso_cv.predict(Z_train)"
   ]
  },
  {
   "cell_type": "code",
   "execution_count": 23,
   "metadata": {},
   "outputs": [
    {
     "data": {
      "text/plain": [
       "26899.799328385892"
      ]
     },
     "execution_count": 23,
     "metadata": {},
     "output_type": "execute_result"
    }
   ],
   "source": [
    "np.sqrt(mean_squared_error(np.exp(y_train),np.exp(lasso_pred)))"
   ]
  },
  {
   "cell_type": "markdown",
   "metadata": {},
   "source": [
    "## Kaggle Submission!\n",
    "![](https://media3.giphy.com/media/WUq1cg9K7uzHa/giphy-downsized.gif?cid=6104955ebadd78bc20ca503801d047c1b0b0a38f0d948954&rid=giphy-downsized.gif)"
   ]
  },
  {
   "cell_type": "code",
   "execution_count": 25,
   "metadata": {},
   "outputs": [],
   "source": [
    "X_kaggle = test[['TotalSF', 'Overall Qual', 'Gr Liv Area',\n",
    "          'Overall Garage', 'Recently Blt/Remod', 'Bathrooms',\n",
    "           'TotRms AbvGrd', 'Foundation_PConc', 'MS Zoning_RM',\n",
    "          'Overall Great Fireplace', 'Exter Qual_TA', 'Heating QC_Ex',\n",
    "          'Total Porch SF', 'Kitchen Qual_TA', 'Neighborhood_NridgHt',\n",
    "          'Bsmt Qual_Ex']]\n",
    "kaggle_submission = pd.DataFrame()\n",
    "kaggle_predictions = lr.predict(poly.transform(X_kaggle)) #Must apply PolyFeatures to test data.\n",
    "kaggle_submission['Id'] = test['Id']\n",
    "kaggle_submission['SalePrice'] = np.exp(kaggle_predictions) #Becuase SalePrice in log form\n",
    "kaggle_submission.to_csv('../datasets/kaggle_submission_1.csv',index=False)"
   ]
  }
 ],
 "metadata": {
  "kernelspec": {
   "display_name": "Python 3",
   "language": "python",
   "name": "python3"
  },
  "language_info": {
   "codemirror_mode": {
    "name": "ipython",
    "version": 3
   },
   "file_extension": ".py",
   "mimetype": "text/x-python",
   "name": "python",
   "nbconvert_exporter": "python",
   "pygments_lexer": "ipython3",
   "version": "3.8.5"
  }
 },
 "nbformat": 4,
 "nbformat_minor": 4
}
