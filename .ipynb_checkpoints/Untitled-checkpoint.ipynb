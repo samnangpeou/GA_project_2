{
 "cells": [
  {
   "cell_type": "markdown",
   "metadata": {},
   "source": [
    "# Deliverables"
   ]
  },
  {
   "cell_type": "code",
   "execution_count": 1,
   "metadata": {},
   "outputs": [],
   "source": [
    "import pandas as pd\n",
    "import numpy as np\n",
    "import matplotlib.pyplot as plt\n",
    "import seaborn as sns\n",
    "from sklearn.linear_model import LinearRegression, Ridge, RidgeCV,Lasso, LassoCV\n",
    "from sklearn.metrics import mean_squared_error\n",
    "from sklearn.model_selection import train_test_split, cross_val_score\n",
    "from sklearn.preprocessing import StandardScaler,PolynomialFeatures\n",
    "from scipy import stats\n",
    "import math\n",
    "import statsmodels.api as sm"
   ]
  },
  {
   "cell_type": "code",
   "execution_count": 2,
   "metadata": {},
   "outputs": [],
   "source": [
    "train = pd.read_csv('datasets/train.csv')"
   ]
  },
  {
   "cell_type": "code",
   "execution_count": 3,
   "metadata": {},
   "outputs": [],
   "source": [
    "train.drop(columns='Pool QC', inplace=True)"
   ]
  },
  {
   "cell_type": "code",
   "execution_count": 4,
   "metadata": {},
   "outputs": [],
   "source": [
    "train['Garage Type'].fillna('None',inplace=True)\n",
    "train['Garage Yr Blt'].fillna('None',inplace=True)\n",
    "train['Garage Finish'].fillna('None',inplace=True)\n",
    "train['Garage Qual'].fillna('None',inplace=True)\n",
    "train['Garage Cond'].fillna('None', inplace=True)\n",
    "train['Alley'].fillna('None',inplace=True)\n",
    "train['Fireplace Qu'].fillna('None', inplace=True)\n",
    "# train['Pool QC'].fillna('None', inplace=True)\n",
    "train['Fence'].fillna('None', inplace=True)\n",
    "train['Misc Feature'].fillna('None',inplace=True)\n",
    "train['Bsmt Qual'].fillna('None', inplace=True)\n",
    "train['Bsmt Cond'].fillna('None',inplace=True)\n",
    "train['Bsmt Exposure'].fillna('None',inplace=True)\n",
    "train['BsmtFin Type 2'].fillna('None',inplace=True)\n",
    "train['BsmtFin Type 1'].fillna('None',inplace=True)\n",
    "train['Mas Vnr Type'].fillna('None',inplace=True)"
   ]
  },
  {
   "cell_type": "code",
   "execution_count": 5,
   "metadata": {},
   "outputs": [],
   "source": [
    "train['Lot Frontage'] = train.groupby('Neighborhood')['Lot Frontage'].transform(lambda x: x.fillna(x.mean())) "
   ]
  },
  {
   "cell_type": "code",
   "execution_count": 6,
   "metadata": {},
   "outputs": [],
   "source": [
    "train.fillna(0,inplace=True)"
   ]
  },
  {
   "cell_type": "code",
   "execution_count": 7,
   "metadata": {},
   "outputs": [],
   "source": [
    "train = pd.get_dummies(train)"
   ]
  },
  {
   "cell_type": "code",
   "execution_count": 10,
   "metadata": {
    "scrolled": true
   },
   "outputs": [],
   "source": [
    "X = train[['TotalSF', 'Overall Qual', 'Gr Liv Area',\n",
    "          'Overall Garage', 'Year Built/Remod', 'Bathrooms',\n",
    "           'TotRms AbvGrd', 'Foundation_PConc',\n",
    "          'Overall Great Fireplace', 'Exter Qual_Gd', 'Heating QC_Ex',\n",
    "          'Total Porch SF']]"
   ]
  },
  {
   "cell_type": "code",
   "execution_count": 11,
   "metadata": {},
   "outputs": [],
   "source": [
    "y = train['SalePrice']"
   ]
  },
  {
   "cell_type": "code",
   "execution_count": 12,
   "metadata": {},
   "outputs": [],
   "source": [
    "X_train, X_test, y_train, y_test = train_test_split(X,y)"
   ]
  },
  {
   "cell_type": "code",
   "execution_count": 13,
   "metadata": {},
   "outputs": [],
   "source": [
    "lr = LinearRegression()"
   ]
  },
  {
   "cell_type": "code",
   "execution_count": 14,
   "metadata": {},
   "outputs": [
    {
     "data": {
      "text/plain": [
       "LinearRegression()"
      ]
     },
     "execution_count": 14,
     "metadata": {},
     "output_type": "execute_result"
    }
   ],
   "source": [
    "lr.fit(X_train, y_train)"
   ]
  },
  {
   "cell_type": "code",
   "execution_count": 9,
   "metadata": {},
   "outputs": [],
   "source": [
    "train['Overall Garage'] = train['Garage Area'] * train['Garage Cars']\n",
    "train['Overall Great Fireplace'] = (train['Fireplace Qu_Ex'] + train['Fireplace Qu_Gd']) + train['Fireplaces']\n",
    "train['TotalSF'] = train['2nd Flr SF'] + train['BsmtFin SF 1'] + train['BsmtFin SF 2'] + train['Bsmt Unf SF'] + train['1st Flr SF']\n",
    "train['Recently Blt/Remod'] = train['Year Built'] + train['Year Remod/Add']\n",
    "train['Bathrooms'] = train['Bsmt Half Bath'] + train['Full Bath'] + (train['Half Bath'] * .5) + train['Bsmt Full Bath']\n",
    "train['Year Built/Remod'] = train['Year Built'] + train['Year Remod/Add']\n",
    "train['Total Porch SF'] = train['Enclosed Porch'] + train['Screen Porch'] + train['Open Porch SF'] + train['3Ssn Porch'] + train['Wood Deck SF']"
   ]
  },
  {
   "cell_type": "markdown",
   "metadata": {},
   "source": [
    "#### With all else held constant ..."
   ]
  },
  {
   "cell_type": "code",
   "execution_count": 16,
   "metadata": {},
   "outputs": [
    {
     "data": {
      "text/plain": [
       "[('TotalSF', 31.610688285546136),\n",
       " ('Overall Qual', 15809.377125523682),\n",
       " ('Gr Liv Area', 14.719311877660969),\n",
       " ('Overall Garage', 18.896958610731215),\n",
       " ('Year Built/Remod', 230.944227197381),\n",
       " ('Bathrooms', 4915.777528460584),\n",
       " ('TotRms AbvGrd', -2791.5163756399406),\n",
       " ('Foundation_PConc', 3274.7451852951035),\n",
       " ('Overall Great Fireplace', 8604.217935933364),\n",
       " ('Exter Qual_Gd', -13065.398435261144),\n",
       " ('Heating QC_Ex', 8980.833747054281),\n",
       " ('Total Porch SF', 23.18644598639235)]"
      ]
     },
     "execution_count": 16,
     "metadata": {},
     "output_type": "execute_result"
    }
   ],
   "source": [
    "list(zip(X.columns, lr.coef_))"
   ]
  },
  {
   "cell_type": "code",
   "execution_count": null,
   "metadata": {},
   "outputs": [],
   "source": []
  }
 ],
 "metadata": {
  "kernelspec": {
   "display_name": "Python 3",
   "language": "python",
   "name": "python3"
  },
  "language_info": {
   "codemirror_mode": {
    "name": "ipython",
    "version": 3
   },
   "file_extension": ".py",
   "mimetype": "text/x-python",
   "name": "python",
   "nbconvert_exporter": "python",
   "pygments_lexer": "ipython3",
   "version": "3.8.5"
  }
 },
 "nbformat": 4,
 "nbformat_minor": 4
}
