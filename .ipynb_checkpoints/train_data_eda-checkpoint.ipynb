{
 "cells": [
  {
   "cell_type": "markdown",
   "metadata": {},
   "source": [
    "# Ames Housing Project Suggestions"
   ]
  },
  {
   "cell_type": "code",
   "execution_count": 2,
   "metadata": {},
   "outputs": [],
   "source": [
    "#imported models\n",
    "import pandas as pd\n",
    "import numpy as np\n",
    "import matplotlib.pyplot as plt\n",
    "import seaborn as sns\n",
    "from sklearn.linear_model import LinearRegression, Ridge, RidgeCV, Lasso, LassoCV,ElasticNetCV\n",
    "from sklearn.metrics import mean_squared_error\n",
    "from sklearn.model_selection import train_test_split, cross_val_score\n",
    "from sklearn.preprocessing import StandardScaler,PolynomialFeatures\n",
    "from scipy import stats"
   ]
  },
  {
   "cell_type": "code",
   "execution_count": 3,
   "metadata": {},
   "outputs": [],
   "source": [
    "#importing data\n",
    "train = pd.read_csv('datasets/train.csv')\n",
    "test = pd.read_csv('datasets/test.csv')"
   ]
  },
  {
   "cell_type": "code",
   "execution_count": 4,
   "metadata": {},
   "outputs": [],
   "source": [
    "pd.options.display.max_rows = 999\n",
    "pd.options.display.max_columns = 999"
   ]
  },
  {
   "cell_type": "code",
   "execution_count": 5,
   "metadata": {},
   "outputs": [],
   "source": [
    "for i in test.columns:\n",
    "    test[i] = test[i].map(lambda x: 1 if x == 'Y' else (0 if x == 'N' else x))\n",
    "for i in train.columns:\n",
    "    train[i] = train[i].map(lambda x: 1 if x == 'Y' else (0 if x == 'N' else x))"
   ]
  },
  {
   "cell_type": "code",
   "execution_count": 6,
   "metadata": {},
   "outputs": [],
   "source": [
    "qual_dict = {'Ex': 5, 'Gd': 4, 'TA': 3, 'Fa': 2, 'Po': 1}\n",
    "test.replace(qual_dict, inplace=True)\n",
    "train.replace(qual_dict,inplace=True)"
   ]
  },
  {
   "cell_type": "code",
   "execution_count": 7,
   "metadata": {},
   "outputs": [],
   "source": [
    "test.drop(columns='Pool QC', inplace=True)\n",
    "train.drop(columns='Pool QC', inplace=True)"
   ]
  },
  {
   "cell_type": "code",
   "execution_count": 8,
   "metadata": {},
   "outputs": [],
   "source": [
    "train.drop([0,1712],inplace=True)"
   ]
  },
  {
   "cell_type": "code",
   "execution_count": 9,
   "metadata": {},
   "outputs": [],
   "source": [
    "test = pd.get_dummies(test,drop_first=True)"
   ]
  },
  {
   "cell_type": "code",
   "execution_count": 10,
   "metadata": {},
   "outputs": [],
   "source": [
    "train = pd.get_dummies(train,drop_first=True)"
   ]
  },
  {
   "cell_type": "code",
   "execution_count": 11,
   "metadata": {},
   "outputs": [
    {
     "name": "stderr",
     "output_type": "stream",
     "text": [
      "<ipython-input-11-9e329c5ad195>:1: SettingWithCopyWarning: \n",
      "A value is trying to be set on a copy of a slice from a DataFrame\n",
      "\n",
      "See the caveats in the documentation: https://pandas.pydata.org/pandas-docs/stable/user_guide/indexing.html#returning-a-view-versus-a-copy\n",
      "  train['BsmtFin SF 1'][train['Bsmt Qual'] > 0] = train['BsmtFin SF 1'].mean()\n",
      "<ipython-input-11-9e329c5ad195>:2: SettingWithCopyWarning: \n",
      "A value is trying to be set on a copy of a slice from a DataFrame\n",
      "\n",
      "See the caveats in the documentation: https://pandas.pydata.org/pandas-docs/stable/user_guide/indexing.html#returning-a-view-versus-a-copy\n",
      "  test['BsmtFin SF 1'][test['Bsmt Qual'] > 0] = test['BsmtFin SF 1'].mean()\n"
     ]
    }
   ],
   "source": [
    "train['BsmtFin SF 1'][train['Bsmt Qual'] > 0] = train['BsmtFin SF 1'].mean()\n",
    "test['BsmtFin SF 1'][test['Bsmt Qual'] > 0] = test['BsmtFin SF 1'].mean()"
   ]
  },
  {
   "cell_type": "code",
   "execution_count": 12,
   "metadata": {},
   "outputs": [
    {
     "name": "stderr",
     "output_type": "stream",
     "text": [
      "<ipython-input-12-d43a1db16c3a>:1: SettingWithCopyWarning: \n",
      "A value is trying to be set on a copy of a slice from a DataFrame\n",
      "\n",
      "See the caveats in the documentation: https://pandas.pydata.org/pandas-docs/stable/user_guide/indexing.html#returning-a-view-versus-a-copy\n",
      "  train['Lot Frontage'][(train['Lot Config_FR2']>0)] = train['Lot Frontage'].mean()\n",
      "<ipython-input-12-d43a1db16c3a>:2: SettingWithCopyWarning: \n",
      "A value is trying to be set on a copy of a slice from a DataFrame\n",
      "\n",
      "See the caveats in the documentation: https://pandas.pydata.org/pandas-docs/stable/user_guide/indexing.html#returning-a-view-versus-a-copy\n",
      "  test['Lot Frontage'][(test['Lot Config_FR2']>0)] = test['Lot Frontage'].mean()\n"
     ]
    }
   ],
   "source": [
    "train['Lot Frontage'][(train['Lot Config_FR2']>0)] = train['Lot Frontage'].mean()\n",
    "test['Lot Frontage'][(test['Lot Config_FR2']>0)] = test['Lot Frontage'].mean()"
   ]
  },
  {
   "cell_type": "code",
   "execution_count": 13,
   "metadata": {},
   "outputs": [
    {
     "name": "stderr",
     "output_type": "stream",
     "text": [
      "<ipython-input-13-303318c2373b>:1: SettingWithCopyWarning: \n",
      "A value is trying to be set on a copy of a slice from a DataFrame\n",
      "\n",
      "See the caveats in the documentation: https://pandas.pydata.org/pandas-docs/stable/user_guide/indexing.html#returning-a-view-versus-a-copy\n",
      "  train['Lot Frontage'][(train['Lot Config_FR3']>0)] = train['Lot Frontage'].mean()\n",
      "<ipython-input-13-303318c2373b>:2: SettingWithCopyWarning: \n",
      "A value is trying to be set on a copy of a slice from a DataFrame\n",
      "\n",
      "See the caveats in the documentation: https://pandas.pydata.org/pandas-docs/stable/user_guide/indexing.html#returning-a-view-versus-a-copy\n",
      "  test['Lot Frontage'][(test['Lot Config_FR3']>0)] = test['Lot Frontage'].mean()\n"
     ]
    }
   ],
   "source": [
    "train['Lot Frontage'][(train['Lot Config_FR3']>0)] = train['Lot Frontage'].mean()\n",
    "test['Lot Frontage'][(test['Lot Config_FR3']>0)] = test['Lot Frontage'].mean()"
   ]
  },
  {
   "cell_type": "code",
   "execution_count": 14,
   "metadata": {},
   "outputs": [],
   "source": [
    "train['Bsmt Qual'].fillna(train['Bsmt Qual'].median(),inplace=True)\n",
    "train['Bsmt Cond'].fillna(train['Bsmt Cond'].median(),inplace=True)\n",
    "train['Fireplace Qu'].fillna(train['Fireplace Qu'].median(),inplace=True)\n",
    "train['Mas Vnr Area'].fillna(test['Mas Vnr Area'].median(),inplace=True)\n",
    "train['Garage Qual'].fillna(train['Garage Qual'].median(),inplace=True)\n",
    "train['Garage Cond'].fillna(train['Garage Cond'].median(),inplace=True)\n",
    "train['Lot Frontage'].fillna(test['Lot Frontage'].median(),inplace=True)\n",
    "train['Garage Yr Blt'].fillna(train['Garage Yr Blt'].median(),inplace=True)\n",
    "train['BsmtFin SF 1'].fillna(train['BsmtFin SF 1'].median(),inplace=True)"
   ]
  },
  {
   "cell_type": "code",
   "execution_count": 15,
   "metadata": {},
   "outputs": [],
   "source": [
    "test['Garage Qual'].fillna(test['Garage Qual'].median(),inplace=True)\n",
    "test['Garage Cond'].fillna(test['Garage Cond'].median(),inplace=True)\n",
    "test['Bsmt Qual'].fillna(test['Bsmt Qual'].median(),inplace=True)\n",
    "test['Bsmt Cond'].fillna(test['Bsmt Cond'].median(),inplace=True)\n",
    "test['Fireplace Qu'].fillna(test['Fireplace Qu'].median(),inplace=True)\n",
    "test['Mas Vnr Area'].fillna(test['Mas Vnr Area'].median(),inplace=True)\n",
    "test['Lot Frontage'].fillna(test['Lot Frontage'].median(),inplace=True)\n",
    "test['Garage Yr Blt'].fillna(test['Garage Yr Blt'].median(),inplace=True) # if Garage > 1 add"
   ]
  },
  {
   "cell_type": "code",
   "execution_count": 16,
   "metadata": {},
   "outputs": [],
   "source": [
    "train.fillna(method='ffill',inplace=True)\n",
    "test.fillna(method='ffill',inplace=True)"
   ]
  },
  {
   "cell_type": "code",
   "execution_count": 17,
   "metadata": {},
   "outputs": [],
   "source": [
    "outlessliers = train[(np.abs(stats.zscore(train)) < 15).all(axis=1)]"
   ]
  },
  {
   "cell_type": "code",
   "execution_count": 18,
   "metadata": {},
   "outputs": [
    {
     "data": {
      "text/plain": [
       "(1889, 222)"
      ]
     },
     "execution_count": 18,
     "metadata": {},
     "output_type": "execute_result"
    }
   ],
   "source": [
    "outlessliers.shape"
   ]
  },
  {
   "cell_type": "code",
   "execution_count": 19,
   "metadata": {},
   "outputs": [
    {
     "name": "stderr",
     "output_type": "stream",
     "text": [
      "<ipython-input-19-8e4027608c22>:6: SettingWithCopyWarning: \n",
      "A value is trying to be set on a copy of a slice from a DataFrame.\n",
      "Try using .loc[row_indexer,col_indexer] = value instead\n",
      "\n",
      "See the caveats in the documentation: https://pandas.pydata.org/pandas-docs/stable/user_guide/indexing.html#returning-a-view-versus-a-copy\n",
      "  outlessliers[i] = 0\n"
     ]
    }
   ],
   "source": [
    "for i in outlessliers.columns:\n",
    "    if i not in test.columns:\n",
    "        test[i] = 0\n",
    "for i in test.columns:\n",
    "    if i not in outlessliers.columns:\n",
    "        outlessliers[i] = 0"
   ]
  },
  {
   "cell_type": "code",
   "execution_count": 20,
   "metadata": {},
   "outputs": [],
   "source": [
    "corr = train.corr()['SalePrice'].dropna()"
   ]
  },
  {
   "cell_type": "code",
   "execution_count": 21,
   "metadata": {
    "scrolled": true
   },
   "outputs": [
    {
     "data": {
      "text/plain": [
       "<AxesSubplot:>"
      ]
     },
     "execution_count": 21,
     "metadata": {},
     "output_type": "execute_result"
    },
    {
     "data": {
      "image/png": "[encoded data removed]",
      "text/plain": [
       "<Figure size 720x720 with 2 Axes>"
      ]
     },
     "metadata": {
      "needs_background": "light"
     },
     "output_type": "display_data"
    }
   ],
   "source": [
    "plt.figure(figsize=(10,10))\n",
    "sns.heatmap(pd.DataFrame(corr).head(50).sort_values('SalePrice',ascending=True),\n",
    "            cmap='coolwarm', vmin=-1, vmax=1, annot=True)"
   ]
  },
  {
   "cell_type": "code",
   "execution_count": 22,
   "metadata": {
    "scrolled": true
   },
   "outputs": [
    {
     "name": "stderr",
     "output_type": "stream",
     "text": [
      "<ipython-input-22-3448d02db7fb>:1: SettingWithCopyWarning: \n",
      "A value is trying to be set on a copy of a slice from a DataFrame.\n",
      "Try using .loc[row_indexer,col_indexer] = value instead\n",
      "\n",
      "See the caveats in the documentation: https://pandas.pydata.org/pandas-docs/stable/user_guide/indexing.html#returning-a-view-versus-a-copy\n",
      "  outlessliers['Overall * Exter * Qual'] = outlessliers['Overall Qual'] * outlessliers['Exter Qual']\n",
      "<ipython-input-22-3448d02db7fb>:2: SettingWithCopyWarning: \n",
      "A value is trying to be set on a copy of a slice from a DataFrame.\n",
      "Try using .loc[row_indexer,col_indexer] = value instead\n",
      "\n",
      "See the caveats in the documentation: https://pandas.pydata.org/pandas-docs/stable/user_guide/indexing.html#returning-a-view-versus-a-copy\n",
      "  outlessliers['Garage * Area * Cars'] = outlessliers['Garage Area'] * outlessliers['Garage Cars']\n",
      "<ipython-input-22-3448d02db7fb>:3: SettingWithCopyWarning: \n",
      "A value is trying to be set on a copy of a slice from a DataFrame.\n",
      "Try using .loc[row_indexer,col_indexer] = value instead\n",
      "\n",
      "See the caveats in the documentation: https://pandas.pydata.org/pandas-docs/stable/user_guide/indexing.html#returning-a-view-versus-a-copy\n",
      "  outlessliers['Bsmt Qual SF'] = outlessliers['Bsmt Qual'] * outlessliers['Total Bsmt SF']\n",
      "<ipython-input-22-3448d02db7fb>:4: SettingWithCopyWarning: \n",
      "A value is trying to be set on a copy of a slice from a DataFrame.\n",
      "Try using .loc[row_indexer,col_indexer] = value instead\n",
      "\n",
      "See the caveats in the documentation: https://pandas.pydata.org/pandas-docs/stable/user_guide/indexing.html#returning-a-view-versus-a-copy\n",
      "  outlessliers['Fireplaces Qu'] = outlessliers['Fireplace Qu'] * outlessliers['Fireplaces']\n"
     ]
    }
   ],
   "source": [
    "outlessliers['Overall * Exter * Qual'] = outlessliers['Overall Qual'] * outlessliers['Exter Qual']\n",
    "outlessliers['Garage * Area * Cars'] = outlessliers['Garage Area'] * outlessliers['Garage Cars']\n",
    "outlessliers['Bsmt Qual SF'] = outlessliers['Bsmt Qual'] * outlessliers['Total Bsmt SF']\n",
    "outlessliers['Fireplaces Qu'] = outlessliers['Fireplace Qu'] * outlessliers['Fireplaces']"
   ]
  },
  {
   "cell_type": "code",
   "execution_count": 23,
   "metadata": {},
   "outputs": [],
   "source": [
    "test['Overall * Exter * Qual'] = test['Overall Qual'] * test['Exter Qual']\n",
    "test['Garage * Area * Cars'] = test['Garage Area'] * test['Garage Cars']\n",
    "test['Bsmt Qual SF'] = test['Bsmt Qual'] * test['Total Bsmt SF']\n",
    "test['Fireplaces Qu'] = test['Fireplace Qu'] * test['Fireplaces']"
   ]
  },
  {
   "cell_type": "code",
   "execution_count": 24,
   "metadata": {},
   "outputs": [
    {
     "data": {
      "text/plain": [
       "LinearRegression()"
      ]
     },
     "execution_count": 24,
     "metadata": {},
     "output_type": "execute_result"
    }
   ],
   "source": [
    "X = outlessliers[['Overall * Exter * Qual',\n",
    "           'Gr Liv Area',\n",
    "           'Kitchen Qual',\n",
    "           'Garage * Area * Cars',\n",
    "           'TotRms AbvGrd',\n",
    "          'Year Built',\n",
    "           'Bsmt Qual SF',\n",
    "          '1st Flr SF',\n",
    "          'Foundation_PConc',\n",
    "          'Year Remod/Add',\n",
    "           'Mas Vnr Area',\n",
    "           'Garage Yr Blt',\n",
    "           'Fireplaces Qu',\n",
    "            'Full Bath',\n",
    "           'BsmtFin Type 1_GLQ']]\n",
    "y = outlessliers['SalePrice']\n",
    "lr = LinearRegression()\n",
    "poly = PolynomialFeatures()\n",
    "X_poly = poly.fit_transform(X)\n",
    "X_train, X_test, y_train, y_test = train_test_split(X_poly, y)\n",
    "lr.fit(X_poly, y)"
   ]
  },
  {
   "cell_type": "code",
   "execution_count": 25,
   "metadata": {
    "scrolled": true
   },
   "outputs": [
    {
     "data": {
      "text/plain": [
       "array([ 0.87934367, -0.95004153,  0.90792833,  0.91030903,  0.9217309 ])"
      ]
     },
     "execution_count": 25,
     "metadata": {},
     "output_type": "execute_result"
    }
   ],
   "source": [
    "cross_val_score(lr,X_train,y_train,cv=5)"
   ]
  },
  {
   "cell_type": "code",
   "execution_count": 26,
   "metadata": {},
   "outputs": [
    {
     "data": {
      "text/plain": [
       "(0.9275213998660645, 0.9157770269407111)"
      ]
     },
     "execution_count": 26,
     "metadata": {},
     "output_type": "execute_result"
    }
   ],
   "source": [
    "lr.score(X_train,y_train), lr.score(X_test,y_test)"
   ]
  },
  {
   "cell_type": "code",
   "execution_count": 27,
   "metadata": {},
   "outputs": [],
   "source": [
    "predictions = lr.predict(X_test)"
   ]
  },
  {
   "cell_type": "code",
   "execution_count": 28,
   "metadata": {},
   "outputs": [
    {
     "data": {
      "text/plain": [
       "21440.853276939113"
      ]
     },
     "execution_count": 28,
     "metadata": {},
     "output_type": "execute_result"
    }
   ],
   "source": [
    "np.sqrt(mean_squared_error(y_test,predictions))"
   ]
  },
  {
   "cell_type": "code",
   "execution_count": 43,
   "metadata": {},
   "outputs": [],
   "source": [
    "X_kaggle = test[['Overall * Exter * Qual',\n",
    "           'Gr Liv Area',\n",
    "           'Kitchen Qual',\n",
    "           'Garage * Area * Cars',\n",
    "           'TotRms AbvGrd',\n",
    "          'Year Built',\n",
    "           'Bsmt Qual SF',\n",
    "          '1st Flr SF',\n",
    "          'Foundation_PConc',\n",
    "          'Year Remod/Add',\n",
    "           'Mas Vnr Area',\n",
    "           'Garage Yr Blt',\n",
    "           'Fireplaces Qu',\n",
    "            'Full Bath',\n",
    "           'BsmtFin Type 1_GLQ']]\n",
    "kaggle_submission = pd.DataFrame()\n",
    "kaggle_predictions = ridge_model.predict(sc.transform(poly.transform(X_kaggle)))\n",
    "kaggle_submission['Id'] = test['Id']\n",
    "kaggle_submission['SalePrice'] = kaggle_predictions\n",
    "kaggle_submission.to_csv('./datasets/kaggle_submission_09.csv',index=False)"
   ]
  },
  {
   "cell_type": "code",
   "execution_count": 30,
   "metadata": {},
   "outputs": [],
   "source": [
    "X_overfit = poly.fit_transform(X)\n",
    "X_train, X_test, y_train, y_test = train_test_split(\n",
    "    X_overfit,\n",
    "    y,\n",
    ")\n",
    "sc = StandardScaler()\n",
    "Z_train = sc.fit_transform(X_train)        # NOTE: fit transform on X_train\n",
    "Z_test = sc.transform(X_test)   "
   ]
  },
  {
   "cell_type": "code",
   "execution_count": 31,
   "metadata": {},
   "outputs": [
    {
     "name": "stdout",
     "output_type": "stream",
     "text": [
      "Z_train shape is: (1416, 136)\n",
      "y_train shape is: (1416,)\n",
      "Z_test shape is: (473, 136)\n",
      "y_test shape is: (473,)\n"
     ]
    }
   ],
   "source": [
    "print(f'Z_train shape is: {Z_train.shape}')\n",
    "print(f'y_train shape is: {y_train.shape}')\n",
    "print(f'Z_test shape is: {Z_test.shape}')\n",
    "print(f'y_test shape is: {y_test.shape}')"
   ]
  },
  {
   "cell_type": "code",
   "execution_count": 32,
   "metadata": {},
   "outputs": [
    {
     "data": {
      "text/plain": [
       "LinearRegression()"
      ]
     },
     "execution_count": 32,
     "metadata": {},
     "output_type": "execute_result"
    }
   ],
   "source": [
    "ols = LinearRegression()\n",
    "ols.fit(Z_train,y_train)"
   ]
  },
  {
   "cell_type": "code",
   "execution_count": 33,
   "metadata": {},
   "outputs": [
    {
     "name": "stdout",
     "output_type": "stream",
     "text": [
      "0.912649737992762\n",
      "0.9038304564670139\n"
     ]
    }
   ],
   "source": [
    "print(ols.score(Z_train,y_train)) # train score\n",
    "print(ols.score(Z_test, y_test))"
   ]
  },
  {
   "cell_type": "code",
   "execution_count": 34,
   "metadata": {},
   "outputs": [
    {
     "name": "stdout",
     "output_type": "stream",
     "text": [
      "0.9169359315466687\n",
      "0.9179574721959182\n"
     ]
    }
   ],
   "source": [
    "ridge_model = Ridge(alpha = 10)\n",
    "# Fit.\n",
    "ridge_model.fit(Z_train, y_train)\n",
    "# Evaluate model using R2 bc this is a regression task\n",
    "print(ridge_model.score(Z_train, y_train))\n",
    "print(ridge_model.score(Z_test,y_test))"
   ]
  },
  {
   "cell_type": "code",
   "execution_count": 35,
   "metadata": {},
   "outputs": [
    {
     "data": {
      "text/plain": [
       "RidgeCV(alphas=array([1.00000000e+00, 1.12332403e+00, 1.26185688e+00, 1.41747416e+00,\n",
       "       1.59228279e+00, 1.78864953e+00, 2.00923300e+00, 2.25701972e+00,\n",
       "       2.53536449e+00, 2.84803587e+00, 3.19926714e+00, 3.59381366e+00,\n",
       "       4.03701726e+00, 4.53487851e+00, 5.09413801e+00, 5.72236766e+00,\n",
       "       6.42807312e+00, 7.22080902e+00, 8.11130831e+00, 9.11162756e+00,\n",
       "       1.02353102e+01, 1.14975700e+0...\n",
       "       6.89261210e+03, 7.74263683e+03, 8.69749003e+03, 9.77009957e+03,\n",
       "       1.09749877e+04, 1.23284674e+04, 1.38488637e+04, 1.55567614e+04,\n",
       "       1.74752840e+04, 1.96304065e+04, 2.20513074e+04, 2.47707636e+04,\n",
       "       2.78255940e+04, 3.12571585e+04, 3.51119173e+04, 3.94420606e+04,\n",
       "       4.43062146e+04, 4.97702356e+04, 5.59081018e+04, 6.28029144e+04,\n",
       "       7.05480231e+04, 7.92482898e+04, 8.90215085e+04, 1.00000000e+05]),\n",
       "        cv=5, scoring='r2')"
      ]
     },
     "execution_count": 35,
     "metadata": {},
     "output_type": "execute_result"
    }
   ],
   "source": [
    "r_alphas = np.logspace(0,5,100) #alphas range from 1 to 10^5\n",
    "\n",
    "# Cross-validate over our list of ridge alphas.\n",
    "ridge_cv = RidgeCV(alphas = r_alphas,\n",
    "                  scoring = 'r2',\n",
    "                  cv = 5)\n",
    "\n",
    "# Fit model using best ridge alpha!\n",
    "ridge_cv.fit(Z_train,y_train)"
   ]
  },
  {
   "cell_type": "code",
   "execution_count": 36,
   "metadata": {},
   "outputs": [
    {
     "data": {
      "text/plain": [
       "58.570208180566674"
      ]
     },
     "execution_count": 36,
     "metadata": {},
     "output_type": "execute_result"
    }
   ],
   "source": [
    "ridge_cv.alpha_"
   ]
  },
  {
   "cell_type": "code",
   "execution_count": 37,
   "metadata": {},
   "outputs": [
    {
     "name": "stdout",
     "output_type": "stream",
     "text": [
      "0.9130644770335467\n",
      "0.9184597771417659\n"
     ]
    }
   ],
   "source": [
    "ridge_model = Ridge(alpha = ridge_cv.alpha_)\n",
    "# Fit.\n",
    "ridge_model.fit(Z_train, y_train)\n",
    "# Evaluate model using R2 b/c this is a regression task\n",
    "print(ridge_model.score(Z_train, y_train))\n",
    "print(ridge_model.score(Z_test, y_test))"
   ]
  },
  {
   "cell_type": "code",
   "execution_count": 38,
   "metadata": {},
   "outputs": [],
   "source": [
    "pred = ridge_model.predict(Z_train)"
   ]
  },
  {
   "cell_type": "code",
   "execution_count": 39,
   "metadata": {},
   "outputs": [
    {
     "data": {
      "text/plain": [
       "22789.94940209327"
      ]
     },
     "execution_count": 39,
     "metadata": {},
     "output_type": "execute_result"
    }
   ],
   "source": [
    "np.sqrt(mean_squared_error(y_train,pred))"
   ]
  },
  {
   "cell_type": "code",
   "execution_count": 40,
   "metadata": {},
   "outputs": [
    {
     "data": {
      "text/plain": [
       "array([0.90593674, 0.88963326, 0.85051304, 0.82762299, 0.87189908])"
      ]
     },
     "execution_count": 40,
     "metadata": {},
     "output_type": "execute_result"
    }
   ],
   "source": [
    "cross_val_score(lr,Z_train,y_train,cv=5)"
   ]
  },
  {
   "cell_type": "code",
   "execution_count": null,
   "metadata": {},
   "outputs": [],
   "source": []
  }
 ],
 "metadata": {
  "kernelspec": {
   "display_name": "Python 3",
   "language": "python",
   "name": "python3"
  },
  "language_info": {
   "codemirror_mode": {
    "name": "ipython",
    "version": 3
   },
   "file_extension": ".py",
   "mimetype": "text/x-python",
   "name": "python",
   "nbconvert_exporter": "python",
   "pygments_lexer": "ipython3",
   "version": "3.8.5"
  }
 },
 "nbformat": 4,
 "nbformat_minor": 4
}
