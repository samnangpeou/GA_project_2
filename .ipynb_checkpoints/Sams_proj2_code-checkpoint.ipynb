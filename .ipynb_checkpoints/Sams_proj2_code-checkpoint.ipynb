{
 "cells": [
  {
   "cell_type": "markdown",
   "metadata": {},
   "source": [
    "# Ames Housing Project Suggestions"
   ]
  },
  {
   "cell_type": "code",
   "execution_count": 1,
   "metadata": {},
   "outputs": [],
   "source": [
    "#imported models\n",
    "import pandas as pd\n",
    "import numpy as np\n",
    "import matplotlib.pyplot as plt\n",
    "import seaborn as sns\n",
    "from sklearn.linear_model import LinearRegression\n",
    "from sklearn.metrics import mean_squared_error\n",
    "from sklearn.model_selection import train_test_split, cross_val_score"
   ]
  },
  {
   "cell_type": "code",
   "execution_count": 2,
   "metadata": {},
   "outputs": [],
   "source": [
    "#importing data\n",
    "train = pd.read_csv('datasets/train.csv')\n",
    "test = pd.read_csv('datasets/test.csv')"
   ]
  },
  {
   "cell_type": "code",
   "execution_count": 3,
   "metadata": {},
   "outputs": [],
   "source": [
    "def la_metrics(X,Y):\n",
    "    X_ = X\n",
    "    y_ = Y\n",
    "    lr_model = LinearRegression()\n",
    "    lr_model.fit(X=X_,y=y_)\n",
    "    predictions = lr_model.predict(X_)\n",
    "    print('R2_Score:', metrics.r2_score(y_,predictions))\n",
    "    resids = y_-predictions\n",
    "    print('Mean-residsuals:',np.mean(resids))\n",
    "    print('Mean Sq Log Error:', metrics.mean_squared_log_error(y_, predictions))\n",
    "    print('MSE:',metrics.mean_squared_error(y_, predictions))\n",
    "    print('RSS:',((resids)**2).sum())\n",
    "    print('RMSE:', metrics.mean_squared_error(y_, predictions)**.5)\n",
    "    print('MAE:', metrics.mean_absolute_error(y_, predictions))"
   ]
  },
  {
   "cell_type": "code",
   "execution_count": 4,
   "metadata": {},
   "outputs": [],
   "source": [
    "pd.options.display.max_rows = 999\n",
    "pd.options.display.max_columns = 999"
   ]
  },
  {
   "cell_type": "code",
   "execution_count": 5,
   "metadata": {},
   "outputs": [
    {
     "data": {
      "text/plain": [
       "(2051, 81)"
      ]
     },
     "execution_count": 5,
     "metadata": {},
     "output_type": "execute_result"
    }
   ],
   "source": [
    "train.shape"
   ]
  },
  {
   "cell_type": "code",
   "execution_count": 6,
   "metadata": {},
   "outputs": [],
   "source": [
    "qual_dict = {'Ex': 5, 'Gd': 4, 'TA': 3, 'Fa': 2, 'Po': 1}\n",
    "train.replace(qual_dict, inplace=True)"
   ]
  },
  {
   "cell_type": "code",
   "execution_count": 17,
   "metadata": {},
   "outputs": [],
   "source": [
    "train['Garage Qual'].fillna(0,inplace=True)\n",
    "train['Garage Cond'].fillna(0,inplace=True)\n",
    "train['Bsmt Qual'].fillna(0,inplace=True)\n",
    "train['Bsmt Cond'].fillna(0,inplace=True)\n",
    "train['Fireplace Qu'].fillna(0,inplace=True)\n",
    "train['Lot Frontage'].fillna(train['Lot Frontage'].mean(),inplace=True)"
   ]
  },
  {
   "cell_type": "code",
   "execution_count": 8,
   "metadata": {},
   "outputs": [],
   "source": [
    "train.drop(columns='Pool QC', inplace=True)"
   ]
  },
  {
   "cell_type": "code",
   "execution_count": 9,
   "metadata": {},
   "outputs": [],
   "source": [
    "for i in train.columns:\n",
    "    train[i] = train[i].map(lambda x: 1 if x == 'Y' else (0 if x == 'N' else x))"
   ]
  },
  {
   "cell_type": "code",
   "execution_count": 11,
   "metadata": {},
   "outputs": [],
   "source": [
    "train['Year Built'] = pd.to_datetime(train['Year Built'],format='%Y') \n",
    "train['Garage Yr Blt'] = pd.to_datetime(train['Garage Yr Blt'], format = '%Y')\n",
    "train['Year Remod/Add'] = pd.to_datetime(train['Year Remod/Add'],format='%Y')     "
   ]
  },
  {
   "cell_type": "code",
   "execution_count": 12,
   "metadata": {},
   "outputs": [],
   "source": [
    "train['Yr Sold'] = pd.to_datetime(train['Year Remod/Add'],format='%Y')     "
   ]
  },
  {
   "cell_type": "code",
   "execution_count": 13,
   "metadata": {},
   "outputs": [],
   "source": [
    "train.drop([0,1712],inplace=True)"
   ]
  },
  {
   "cell_type": "code",
   "execution_count": 14,
   "metadata": {},
   "outputs": [],
   "source": [
    "qual_dict = {'Ex': 5, 'Gd': 4, 'TA': 3, 'Fa': 2, 'Po': 1}\n",
    "train.replace(qual_dict, inplace=True)"
   ]
  },
  {
   "cell_type": "code",
   "execution_count": 18,
   "metadata": {},
   "outputs": [
    {
     "data": {
      "text/plain": [
       "Id                          int64\n",
       "PID                         int64\n",
       "MS SubClass                 int64\n",
       "MS Zoning                  object\n",
       "Lot Frontage              float64\n",
       "Lot Area                    int64\n",
       "Street                     object\n",
       "Alley                      object\n",
       "Lot Shape                  object\n",
       "Land Contour               object\n",
       "Utilities                  object\n",
       "Lot Config                 object\n",
       "Land Slope                 object\n",
       "Neighborhood               object\n",
       "Condition 1                object\n",
       "Condition 2                object\n",
       "Bldg Type                  object\n",
       "House Style                object\n",
       "Overall Qual                int64\n",
       "Overall Cond                int64\n",
       "Year Built         datetime64[ns]\n",
       "Year Remod/Add     datetime64[ns]\n",
       "Roof Style                 object\n",
       "Roof Matl                  object\n",
       "Exterior 1st               object\n",
       "Exterior 2nd               object\n",
       "Mas Vnr Type               object\n",
       "Mas Vnr Area              float64\n",
       "Exter Qual                  int64\n",
       "Exter Cond                  int64\n",
       "Foundation                 object\n",
       "Bsmt Qual                 float64\n",
       "Bsmt Cond                 float64\n",
       "Bsmt Exposure              object\n",
       "BsmtFin Type 1             object\n",
       "BsmtFin SF 1              float64\n",
       "BsmtFin Type 2             object\n",
       "BsmtFin SF 2              float64\n",
       "Bsmt Unf SF               float64\n",
       "Total Bsmt SF             float64\n",
       "Heating                    object\n",
       "Heating QC                  int64\n",
       "Central Air                 int64\n",
       "Electrical                 object\n",
       "1st Flr SF                  int64\n",
       "2nd Flr SF                  int64\n",
       "Low Qual Fin SF             int64\n",
       "Gr Liv Area                 int64\n",
       "Bsmt Full Bath            float64\n",
       "Bsmt Half Bath            float64\n",
       "Full Bath                   int64\n",
       "Half Bath                   int64\n",
       "Bedroom AbvGr               int64\n",
       "Kitchen AbvGr               int64\n",
       "Kitchen Qual                int64\n",
       "TotRms AbvGrd               int64\n",
       "Functional                 object\n",
       "Fireplaces                  int64\n",
       "Fireplace Qu              float64\n",
       "Garage Type                object\n",
       "Garage Yr Blt      datetime64[ns]\n",
       "Garage Finish              object\n",
       "Garage Cars               float64\n",
       "Garage Area               float64\n",
       "Garage Qual               float64\n",
       "Garage Cond               float64\n",
       "Paved Drive                object\n",
       "Wood Deck SF                int64\n",
       "Open Porch SF               int64\n",
       "Enclosed Porch              int64\n",
       "3Ssn Porch                  int64\n",
       "Screen Porch                int64\n",
       "Pool Area                   int64\n",
       "Fence                      object\n",
       "Misc Feature               object\n",
       "Misc Val                    int64\n",
       "Mo Sold                     int64\n",
       "Yr Sold            datetime64[ns]\n",
       "Sale Type                  object\n",
       "SalePrice                   int64\n",
       "dtype: object"
      ]
     },
     "execution_count": 18,
     "metadata": {},
     "output_type": "execute_result"
    }
   ],
   "source": [
    "train.dtypes"
   ]
  },
  {
   "cell_type": "code",
   "execution_count": 22,
   "metadata": {},
   "outputs": [
    {
     "data": {
      "text/plain": [
       "1768    BrkCmn\n",
       "528     BrkCmn\n",
       "471     BrkCmn\n",
       "557     BrkCmn\n",
       "840     BrkCmn\n",
       "         ...  \n",
       "1606       NaN\n",
       "1699       NaN\n",
       "1815       NaN\n",
       "1820       NaN\n",
       "1941       NaN\n",
       "Name: Mas Vnr Type, Length: 2049, dtype: object"
      ]
     },
     "execution_count": 22,
     "metadata": {},
     "output_type": "execute_result"
    }
   ],
   "source": [
    "train['Mas Vnr Type'].sort_values(ascending=True)"
   ]
  },
  {
   "cell_type": "code",
   "execution_count": 19,
   "metadata": {},
   "outputs": [
    {
     "data": {
      "text/plain": [
       "Id                    0\n",
       "PID                   0\n",
       "MS SubClass           0\n",
       "MS Zoning             0\n",
       "Lot Frontage          0\n",
       "Lot Area              0\n",
       "Street                0\n",
       "Alley              1909\n",
       "Lot Shape             0\n",
       "Land Contour          0\n",
       "Utilities             0\n",
       "Lot Config            0\n",
       "Land Slope            0\n",
       "Neighborhood          0\n",
       "Condition 1           0\n",
       "Condition 2           0\n",
       "Bldg Type             0\n",
       "House Style           0\n",
       "Overall Qual          0\n",
       "Overall Cond          0\n",
       "Year Built            0\n",
       "Year Remod/Add        0\n",
       "Roof Style            0\n",
       "Roof Matl             0\n",
       "Exterior 1st          0\n",
       "Exterior 2nd          0\n",
       "Mas Vnr Type         22\n",
       "Mas Vnr Area         22\n",
       "Exter Qual            0\n",
       "Exter Cond            0\n",
       "Foundation            0\n",
       "Bsmt Qual             0\n",
       "Bsmt Cond             0\n",
       "Bsmt Exposure        58\n",
       "BsmtFin Type 1       55\n",
       "BsmtFin SF 1          1\n",
       "BsmtFin Type 2       56\n",
       "BsmtFin SF 2          1\n",
       "Bsmt Unf SF           1\n",
       "Total Bsmt SF         1\n",
       "Heating               0\n",
       "Heating QC            0\n",
       "Central Air           0\n",
       "Electrical            0\n",
       "1st Flr SF            0\n",
       "2nd Flr SF            0\n",
       "Low Qual Fin SF       0\n",
       "Gr Liv Area           0\n",
       "Bsmt Full Bath        2\n",
       "Bsmt Half Bath        2\n",
       "Full Bath             0\n",
       "Half Bath             0\n",
       "Bedroom AbvGr         0\n",
       "Kitchen AbvGr         0\n",
       "Kitchen Qual          0\n",
       "TotRms AbvGrd         0\n",
       "Functional            0\n",
       "Fireplaces            0\n",
       "Fireplace Qu          0\n",
       "Garage Type         113\n",
       "Garage Yr Blt       113\n",
       "Garage Finish       113\n",
       "Garage Cars           0\n",
       "Garage Area           0\n",
       "Garage Qual           0\n",
       "Garage Cond           0\n",
       "Paved Drive           0\n",
       "Wood Deck SF          0\n",
       "Open Porch SF         0\n",
       "Enclosed Porch        0\n",
       "3Ssn Porch            0\n",
       "Screen Porch          0\n",
       "Pool Area             0\n",
       "Fence              1650\n",
       "Misc Feature       1984\n",
       "Misc Val              0\n",
       "Mo Sold               0\n",
       "Yr Sold               0\n",
       "Sale Type             0\n",
       "SalePrice             0\n",
       "dtype: int64"
      ]
     },
     "execution_count": 19,
     "metadata": {},
     "output_type": "execute_result"
    }
   ],
   "source": [
    "train.isnull().sum()"
   ]
  },
  {
   "cell_type": "code",
   "execution_count": null,
   "metadata": {},
   "outputs": [],
   "source": []
  }
 ],
 "metadata": {
  "kernelspec": {
   "display_name": "Python 3",
   "language": "python",
   "name": "python3"
  },
  "language_info": {
   "codemirror_mode": {
    "name": "ipython",
    "version": 3
   },
   "file_extension": ".py",
   "mimetype": "text/x-python",
   "name": "python",
   "nbconvert_exporter": "python",
   "pygments_lexer": "ipython3",
   "version": "3.8.5"
  }
 },
 "nbformat": 4,
 "nbformat_minor": 4
}
